{
 "cells": [
  {
   "cell_type": "markdown",
   "metadata": {},
   "source": [
    "# **Practical Part**\n",
    "### Mohammad Reza Nemati - 810100226\n",
    "---\n",
    "## **Generic Algorithm**\n",
    "### Summery:\n",
    "In this part the fractional knapsack problem is provided to be solved by generic algorithm.\n",
    "<br>In contrast with classic binary knapsack, which each object could be selected or not (0/1), in fractional knapsack any portion *(or a limited portion, it has different variations)* of the object can be selected.\n",
    "<br><br>In addition to the primary objective of the knapsack problem, the solution is also expected to satisfy a number of additional constraints to ensure its feasibility and effectiveness.\n",
    "\n",
    "---\n"
   ]
  },
  {
   "cell_type": "markdown",
   "metadata": {},
   "source": [
    "### Prerequisites:\n",
    "We need to read and save the snacks data from csv file using NumPy library.\n",
    "<br>It has a set of varied functions for random number generations which some of them are used in the project."
   ]
  },
  {
   "cell_type": "code",
   "execution_count": 13,
   "metadata": {},
   "outputs": [],
   "source": [
    "import numpy as np\n",
    "\n",
    "data_array = np.genfromtxt('./data/snacks.csv', delimiter=',', skip_header=1, \\\n",
    "                           dtype=[('snack', 'U20'), ('weight', 'f8'), ('value', 'f8')])"
   ]
  },
  {
   "cell_type": "markdown",
   "metadata": {},
   "source": [
    "Then we make two data classes:\n",
    "\n",
    "`Const` class for storing hyperparameters of the generic algorithms:\n",
    "\n",
    "- `max_generations`: The maximum number of generations that the genetic algorithm will run for.\n",
    "- `population_size`: The number of chromosomes in the population.\n",
    "- `crossover_probability`: The probability of performing a crossover operation on a pair of chromosomes.\n",
    "- `mutation_probability`: The probability of performing a mutation operation on an chromosome.\n",
    "- `elite_percentage`: The percentage of the population that will be preserved as-is (the \"elites\") in each generation.\n",
    "\n",
    "<br>`Constraints` class for the provided constrainst in fraction knapsack problem:\n",
    "- `max_weight`: The maximum weight that the knapsack can hold.\n",
    "- `min_value`: The minimum value that should be picked.\n",
    "- `min_type_number`: The minimum number of different types of objects that must be included in the knapsack.\n",
    "- `max_type_number` : The maximum number of different types of objects that can be included in the knapsack."
   ]
  },
  {
   "cell_type": "code",
   "execution_count": 14,
   "metadata": {},
   "outputs": [],
   "source": [
    "from typing import NamedTuple\n",
    "\n",
    "class Consts(NamedTuple):\n",
    "    max_generations: int\n",
    "    population_size: int\n",
    "    crossover_probability: float\n",
    "    mutation_probability: float\n",
    "    elite_percentage: float\n",
    "\n",
    "class Constraints(NamedTuple):\n",
    "    max_weight: float\n",
    "    min_value: float\n",
    "    min_type_number: int\n",
    "    max_type_number: int\n"
   ]
  },
  {
   "cell_type": "markdown",
   "metadata": {},
   "source": [
    "Then we should instansiate the data classes.\n",
    "<br>For our constants, these values are selected after various tests.\n",
    "<a id='consts'></a>"
   ]
  },
  {
   "cell_type": "code",
   "execution_count": 24,
   "metadata": {},
   "outputs": [],
   "source": [
    "consts = Consts(\n",
    "    max_generations=700,\n",
    "    population_size=500,\n",
    "    crossover_probability=0.8,\n",
    "    mutation_probability=0.3,\n",
    "    elite_percentage=0.1\n",
    ")\n",
    "\n",
    "constraints = Constraints(\n",
    "    max_weight=10,\n",
    "    min_value=18, \n",
    "    min_type_number=2,\n",
    "    max_type_number=4\n",
    ")"
   ]
  },
  {
   "cell_type": "markdown",
   "metadata": {},
   "source": [
    "<a id='basic'></a>\n",
    "### Part 1: Defining Basic Concepts\n",
    "\n",
    "The `Chromosome` class represents a potential solution to the fractional knapsack problem. Each chromosome is a sequence of genes, where each gene represents the fraction of a particular snack to include in the knapsack.\n",
    "\n",
    "The class has the following attributes:\n",
    "\n",
    "- `genes`: A numpy array of floats representing the fraction of each snack to include in the knapsack. A value of 0 means the snack is not included, while a value between 0 and 1 represents the fraction of the snack to include.\n",
    "- `weight`: The total weight of the snacks included in the knapsack for this chromosome.\n",
    "- `fitness`: The total value of the snacks included in the knapsack for this chromosome.\n",
    "\n",
    "The class has the following methods:\n",
    "\n",
    "- `__init__`: The constructor method. It initializes the genes with random values, and then calls the `calc_fitness` to store the fitness.\n",
    "- `calc_fitness`: This method calculates the fitness of the chromosome. It sums up the weight and value of the snacks included in the knapsack, and sets the fitness to 0 if the weight exceeds the maximum allowed weight or the value is less than the minimum required value, or the number of different types of snacks is not within the specified range.\n",
    "    - Note that the weight of the each object is calculated based on fraction of the snack to include which is saved in `genes` field."
   ]
  },
  {
   "cell_type": "code",
   "execution_count": 16,
   "metadata": {},
   "outputs": [],
   "source": [
    "class Chromosome:\n",
    "    def __init__(self):\n",
    "        self.genes = np.random.randint(0, 2, len(data_array)) * np.random.uniform(0, 1)\n",
    "        self.weight = 0\n",
    "        self.fitness = 0\n",
    "        self.calc_fitness()\n",
    "    \n",
    "    def calc_fitness(self) -> None:\n",
    "        self.weight = 0\n",
    "        self.fitness = 0\n",
    "        num_types = np.sum(self.genes != 0)\n",
    "\n",
    "        for i in range(len(data_array)):\n",
    "            if (self.genes[i] == 0):\n",
    "                continue\n",
    "            self.weight += self.genes[i] * data_array[i]['weight']\n",
    "            self.fitness += self.genes[i] * data_array[i]['value']\n",
    "        \n",
    "        if self.weight <= constraints.max_weight and self.fitness >= constraints.min_value and \\\n",
    "            num_types in range(constraints.min_type_number, constraints.max_type_number+1):\n",
    "            return\n",
    "        \n",
    "        self.fitness = 0"
   ]
  },
  {
   "cell_type": "markdown",
   "metadata": {},
   "source": [
    "### GenericKnapsack class\n",
    "\n",
    "The `GenericKnapsack` class is designed to solve the knapsack problem using a genetic algorithm. The class contains several methods that correspond to different steps of the genetic algorithm.\n",
    "\n",
    "The class has the following attributes:\n",
    "\n",
    "- `generations_max`: A list to store the best individual of each generation.\n",
    "- `sorted_generations_max`: A sorted list of the best individuals from each generation.\n",
    "- `population`: The current population of individuals.\n",
    "- `elite_number`: The number of elite individuals to be carried the next generation.\n",
    "\n",
    "The class has the following methods:\n",
    "\n",
    "- `__init__`: Initializes the class attributes.\n",
    "- `generate_initial_population`: Generates the initial population of individuals and sorts them based on their fitness.\n",
    "- `select_elites`: Selects the elite individuals from the population.\n",
    "- `random_point_crossover`: Performs a one-point crossover operation on two parent individuals to generate two offspring.\n",
    "- `mutate`: Performs a mutation operation on an individual.\n",
    "- `evolve`: Evolves the population by selecting elites, performing crossover and mutation operations, and generating a new population.\n",
    "- `solve`: Solves the knapsack problem by evolving the population over a certain number of generations.\n",
    "- `print_ans`: Prints the solution to the knapsack problem.\n",
    "- `plot_ans`: Plots the fitness of the best individual in each generation."
   ]
  },
  {
   "cell_type": "code",
   "execution_count": 17,
   "metadata": {},
   "outputs": [],
   "source": [
    "class GenericKnapsack:\n",
    "    def __init__(self):\n",
    "        self.generations_max = []\n",
    "        self.sorted_generations_max = []\n",
    "        self.population = []\n",
    "        self.elite_number = int(consts.elite_percentage * consts.population_size)"
   ]
  },
  {
   "cell_type": "markdown",
   "metadata": {},
   "source": [
    "### Part 2: Generating initial population\n",
    "\n",
    "\n",
    "The `generate_initial_population` method is responsible for creating the initial population of individuals (chromosomes) that the genetic algorithm will start with.\n",
    "\n",
    "\n",
    "It creates the initial population using list comprehension to create a list of `Chromosome` instances. The number of instances is determined by `consts.population_size`, which represents the size of the population in the genetic algorithm.\n",
    "Finally it sorts the population list based on the `fitness` of the chromosomes so we can pick the elites in the next step."
   ]
  },
  {
   "cell_type": "code",
   "execution_count": 18,
   "metadata": {},
   "outputs": [],
   "source": [
    "def generate_initial_population(self) -> None:\n",
    "    self.population = [Chromosome() for _ in range(consts.population_size)]\n",
    "    self.population.sort(key=lambda x: x.fitness, reverse=True)\n",
    "    \n",
    "GenericKnapsack.generate_initial_population = generate_initial_population"
   ]
  },
  {
   "cell_type": "markdown",
   "metadata": {},
   "source": [
    "### Part 3: Implimenting fitness function\n",
    "\n",
    "We have implemented `calc_fitness` method in `Chromosome` class.\n",
    "<br>\n",
    "[See more details here](#basic)."
   ]
  },
  {
   "cell_type": "markdown",
   "metadata": {},
   "source": [
    "### Part 4: Elite-Surviving, Crossover, Mutation & Evolving\n",
    "\n",
    "- `select_elites`: This method is part of the selection process in the genetic algorithm. It selects a subset of the population, specifically the top-performing individuals, to be preserved into the next generation. This is based on the concept of \"survival of the fittest\".\n",
    "\n",
    "- `random_point_crossover`: This method implements the crossover operation, a fundamental genetic operator that combines the genetic information of two parent individuals to create new offspring. We have used one-point crossover, where a point on the parent chromosome strings is selected <b>randomly</b> and all data beyond that point in the two parent chromosomes is swapped to create new offspring.\n",
    "\n",
    "- `mutate`: This method implements the mutation operation, another fundamental genetic operator that introduces small random change in the individuals' genetic composition. This is crucial for maintaining genetic diversity in the population and for introducing new genetic material. It should be noted that only one gene is picked to be mutated and will be mutetd by the `mutation_probability` which is a hyperparameter.\n",
    "\n",
    "- `evolve`: This method is the core of the genetic algorithm in the `GenericKnapsack` class. It is responsible for evolving the current population to the next generation.\n",
    "    - This method starts by selecting the elite individuals from the current population. It then enters a loop where it continually selects two parents at random and performs a crossover operation to produce offspring. These offspring are temporarily stored and then added to the new population.\n",
    "\n",
    "    - The loop continues until the new population is filled up to the desired size, taking into account the number of elite individuals. After the new population is formed, a mutation operation is performed on each chromosome.\n",
    "\n",
    "    - The `evolve` method returns the new population, which represents the next generation in the genetic algorithm. This new generation is expected to contain individuals that are, on average, more fit than those in the previous generation, thanks to the selection, crossover, and mutation operations.\n",
    "\n"
   ]
  },
  {
   "cell_type": "code",
   "execution_count": 19,
   "metadata": {},
   "outputs": [],
   "source": [
    "def select_elites(self) -> list:\n",
    "    return self.population[:self.elite_number]\n",
    "\n",
    "def random_point_crossover(self, p1, p2) -> tuple:\n",
    "    point = np.random.randint(1, len(p1.genes))\n",
    "    child1 = Chromosome()\n",
    "    child1.genes = np.concatenate((p1.genes[:point], p2.genes[point:]))\n",
    "    child2 = Chromosome()\n",
    "    child2.genes = np.concatenate((p2.genes[:point], p1.genes[point:]))\n",
    "\n",
    "    return child1, child2\n",
    "\n",
    "def mutate(self, chromosome) -> None:\n",
    "    to_mut = np.random.randint(0, len(chromosome.genes))\n",
    "    if np.random.uniform(0, 1) <= consts.mutation_probability:\n",
    "        chromosome.genes[to_mut] = np.random.randint(0, 2) * np.random.uniform(0, 1)\n",
    "    \n",
    "    chromosome.calc_fitness()\n",
    "\n",
    "def evolve(self, population) -> np.array:\n",
    "    new_population = self.select_elites()\n",
    "    temp_population = []\n",
    "    while len(new_population) <= consts.population_size:\n",
    "        parent1, parent2 = np.random.choice(population, 2, replace=False)\n",
    "        if np.random.uniform(0, 1) < consts.crossover_probability:\n",
    "            child1, child2 = self.random_point_crossover(parent1, parent2)\n",
    "            temp_population += [child1, child2]\n",
    "\n",
    "        new_population += temp_population[:2]\n",
    "        temp_population = []\n",
    "\n",
    "    for chromosome in new_population:\n",
    "        self.mutate(chromosome)\n",
    "    \n",
    "    return new_population\n",
    "\n",
    "GenericKnapsack.select_elites = select_elites\n",
    "GenericKnapsack.random_point_crossover = random_point_crossover\n",
    "GenericKnapsack.mutate = mutate\n",
    "GenericKnapsack.evolve = evolve"
   ]
  },
  {
   "cell_type": "markdown",
   "metadata": {},
   "source": [
    "### Part 5: Running the genetic algortihm\n",
    "\n",
    "- `solve`: This method is the interface for running the algortihm. it loops to the number of `max_generations`, evolves the returned population and stores the best chromosome in that generation.\n",
    "\n",
    "- `print_ans` & `plot_ans`: These are some helper methods for displaying outputs."
   ]
  },
  {
   "cell_type": "code",
   "execution_count": 20,
   "metadata": {},
   "outputs": [],
   "source": [
    "def solve(self) -> None:\n",
    "    self.generation_max = []\n",
    "    self.generate_initial_population()\n",
    "    for _ in range(consts.max_generations):\n",
    "        self.population = self.evolve(self.population)\n",
    "        self.population.sort(key=lambda x: x.fitness, reverse=True)\n",
    "        self.generation_max.append(self.population[0])\n",
    "\n",
    "    self.sorted_generation_max = sorted(self.generation_max, key=lambda x: x.fitness, reverse=True)\n",
    "\n",
    "def print_ans(self) -> None:\n",
    "    for i in range(len(self.sorted_generation_max[0].genes)):\n",
    "        if (self.sorted_generation_max[0].genes[i] == 0):\n",
    "            continue\n",
    "        print(f\"{data_array[i]['snack']}: {self.sorted_generation_max[0].genes[i] * data_array[i]['weight']}\")\n",
    "    print(f\"Total Weight: {self.sorted_generation_max[0].weight} \\\n",
    "            \\nTotal Value: {self.sorted_generation_max[0].fitness}\")\n",
    "\n",
    "def plot_ans(self) -> None:\n",
    "    import matplotlib.pyplot as plt\n",
    "    plt.scatter(range(len(self.generation_max)), [x.fitness for x in self.generation_max], \\\n",
    "                s=20, color='red', edgecolors='blue')\n",
    "    plt.xlabel('generation')\n",
    "    plt.ylabel('fitness')\n",
    "    plt.show()\n",
    "\n",
    "GenericKnapsack.solve = solve\n",
    "GenericKnapsack.print_ans = print_ans\n",
    "GenericKnapsack.plot_ans = plot_ans\n",
    "                "
   ]
  },
  {
   "cell_type": "markdown",
   "metadata": {},
   "source": [
    "### Part 6: Result evaluation:\n",
    "We have tried different constraints and constants and the results show that in avarage, after generations the final tends to increase and get closer to the maximum. We also can see this flow in these diagrams.\n",
    "<br>\n",
    "Also when then crossover range and mutataion range are low, it seems that the overall answer does not change much with passing of generations and are mostly static. With these hyperparameters, if we have a high elite percentage, we can still reach good answers.\n",
    "<br>However if crossover range and mutataion range are high, we can see that the answer tends to grow and mutate much faster.\n",
    "<br><br><br>\n",
    "[Click here to change the hyperparameters and constraints](#consts).\n",
    "Or you can change them here."
   ]
  },
  {
   "cell_type": "code",
   "execution_count": 39,
   "metadata": {},
   "outputs": [
    {
     "name": "stdout",
     "output_type": "stream",
     "text": [
      "MazMaz: 0.0\n",
      "Doogh-e-Abali: 0.0\n",
      "Nani: 0.0\n",
      "Jooj: 0.9101560175660325\n",
      "Hot-Dog: 0.0\n",
      "Chips: 0.0\n",
      "Nooshaba: 0.0\n",
      "Shokolat: 0.0\n",
      "Chocoroll: 0.0\n",
      "Cookies: 0.0\n",
      "Abnabat: 0.0\n",
      "Adams-Khersi: 0.0\n",
      "Popcorn: 0.0\n",
      "Pastil: 0.7439780943849617\n",
      "Tordilla: 0.0\n",
      "Masghati: 0.0\n",
      "Ghottab: 0.0\n",
      "Saghe-Talaei: 0.0\n",
      "Choob-Shoor: 0.0\n",
      "Total Weight: 8.603026406117113\n",
      "Total Value: 18.860186924185218\n"
     ]
    }
   ],
   "source": [
    "consts = Consts(\n",
    "    max_generations=500,\n",
    "    population_size=200,\n",
    "    crossover_probability=0.8,\n",
    "    mutation_probability=0.3,\n",
    "    elite_percentage=0.2\n",
    ")\n",
    "\n",
    "\n",
    "def run(knapsack):\n",
    "    knapsack.solve()\n",
    "    knapsack.print_ans()\n",
    "    knapsack.plot_ans()\n",
    "\n",
    "constraints = Constraints(\n",
    "    max_weight=10,\n",
    "    min_value=18, \n",
    "    min_type_number=2,\n",
    "    max_type_number=4\n",
    ")\n",
    "if __name__ == \"__main__\":\n",
    "    knapsack = GenericKnapsack()\n",
    "    run(knapsack)"
   ]
  },
  {
   "cell_type": "code",
   "execution_count": 38,
   "metadata": {},
   "outputs": [
    {
     "name": "stdout",
     "output_type": "stream",
     "text": [
      "MazMaz: 0.0\n",
      "Doogh-e-Abali: 0.0\n",
      "Nani: 0.2490138398048246\n",
      "Jooj: 0.940701014343966\n",
      "Hot-Dog: 0.0\n",
      "Chips: 0.0\n",
      "Nooshaba: 0.0\n",
      "Shokolat: 0.0\n",
      "Chocoroll: 0.6297070123593433\n",
      "Cookies: 0.0\n",
      "Abnabat: 0.3801241444277158\n",
      "Adams-Khersi: 0.0\n",
      "Popcorn: 0.0\n",
      "Pastil: 0.9095860288439412\n",
      "Tordilla: 0.0\n",
      "Masghati: 0.11516811981275521\n",
      "Ghottab: 0.7372129817023145\n",
      "Saghe-Talaei: 0.23139802376165153\n",
      "Choob-Shoor: 0.0\n",
      "Total Weight: 25.565507759743504\n",
      "Total Value: 41.40818413939203\n"
     ]
    }
   ],
   "source": [
    "consts = Consts(\n",
    "    max_generations=500,\n",
    "    population_size=200,\n",
    "    crossover_probability=0.8,\n",
    "    mutation_probability=0.3,\n",
    "    elite_percentage=0.2\n",
    ")\n",
    "\n",
    "constraints = Constraints(\n",
    "    max_weight=30,\n",
    "    min_value=40.01, \n",
    "    min_type_number=8,\n",
    "    max_type_number=10\n",
    ")\n",
    "knapsack = GenericKnapsack()\n",
    "run(knapsack)"
   ]
  },
  {
   "cell_type": "code",
   "execution_count": 36,
   "metadata": {},
   "outputs": [
    {
     "name": "stdout",
     "output_type": "stream",
     "text": [
      "MazMaz: 0.16951057217538468\n",
      "Doogh-e-Abali: 0.008317047186853\n",
      "Nani: 0.29922896858793624\n",
      "Jooj: 0.9828632754424292\n",
      "Hot-Dog: 0.0\n",
      "Chips: 0.040850412273975234\n",
      "Nooshaba: 0.0\n",
      "Shokolat: 0.43196025457022\n",
      "Chocoroll: 0.7176626662961152\n",
      "Cookies: 0.1997371135386954\n",
      "Abnabat: 0.42805525989929405\n",
      "Adams-Khersi: 0.044275096622784504\n",
      "Popcorn: 0.13035031323174562\n",
      "Pastil: 0.9805117133872279\n",
      "Tordilla: 0.1294377065635206\n",
      "Masghati: 0.8852772666041405\n",
      "Ghottab: 0.7750435367986946\n",
      "Saghe-Talaei: 0.6081129096320798\n",
      "Choob-Shoor: 0.38823640065848075\n",
      "Total Weight: 50.79605636747865\n",
      "Total Value: 68.33920478377657\n"
     ]
    }
   ],
   "source": [
    "consts = Consts(\n",
    "    max_generations=600,\n",
    "    population_size=500,\n",
    "    crossover_probability=0.8,\n",
    "    mutation_probability=0.3,\n",
    "    elite_percentage=0.2\n",
    ")\n",
    "constraints = Constraints(\n",
    "    max_weight=55,\n",
    "    min_value=65.01, \n",
    "    min_type_number=15,\n",
    "    max_type_number=17\n",
    ")\n",
    "\n",
    "knapsack = GenericKnapsack()\n",
    "run(knapsack)"
   ]
  },
  {
   "cell_type": "code",
   "execution_count": 37,
   "metadata": {},
   "outputs": [
    {
     "name": "stdout",
     "output_type": "stream",
     "text": [
      "MazMaz: 0.7759111457175396\n",
      "Doogh-e-Abali: 0.022034877947924136\n",
      "Nani: 0.38303429238235276\n",
      "Jooj: 0.9579007623712258\n",
      "Hot-Dog: 0.0727131727879835\n",
      "Chips: 0.2661234935359794\n",
      "Nooshaba: 0.22381594622254541\n",
      "Shokolat: 0.6528050695432839\n",
      "Chocoroll: 0.9959577050816957\n",
      "Cookies: 0.33523218005847066\n",
      "Abnabat: 0.6219703458476191\n",
      "Adams-Khersi: 0.044743600463633015\n",
      "Popcorn: 0.05475106474092972\n",
      "Pastil: 0.8611313634748613\n",
      "Tordilla: 0.5657422877169656\n",
      "Masghati: 0.6170967428871332\n",
      "Ghottab: 0.9898193066008026\n",
      "Saghe-Talaei: 0.9281816929510762\n",
      "Choob-Shoor: 0.39405301211516386\n",
      "Total Weight: 75.26882697528936\n",
      "Total Value: 92.21113723952391\n"
     ]
    }
   ],
   "source": [
    "consts = Consts(\n",
    "    max_generations=1000,\n",
    "    population_size=600,\n",
    "    crossover_probability=0.8,\n",
    "    mutation_probability=0.3,\n",
    "    elite_percentage=0.2\n",
    ")\n",
    "\n",
    "constraints = Constraints(\n",
    "    max_weight=80,\n",
    "    min_value=87.01, \n",
    "    min_type_number=19,\n",
    "    max_type_number=19\n",
    ")\n",
    "knapsack = GenericKnapsack()\n",
    "run(knapsack)"
   ]
  },
  {
   "cell_type": "markdown",
   "metadata": {},
   "source": [
    "---\n",
    "### Questions\n",
    "\n",
    "#### 1. *What are the implications of having a population size that is either too large or too small?*\n",
    "  - A large population size can potentially expedite the discovery of the optimal solution due to increased diversity. However, it may also lead to higher resource consumption in terms of time and memory.\n",
    "  - Conversely, a small population size may not provide sufficient diversity, which could result in the inability to find an optimal solution. But it could be more optimized it terms of time and memory.\n",
    "\n",
    "\n",
    "#### 2. *What are the consequences if the population size expands with each generation?*\n",
    "  - If the population size grows after each generation, it could enhance diversity, which might be beneficial. However, this would also escalate the consumption of resources (time and memory) with each step, which could be problematic.\n",
    "  - Also maintaining a constant population size aids in the convergence of our chromosomes towards an optimal solution. Increasing the population size could potentially hinder this convergence process.\n",
    "\n",
    "\n",
    "#### 3. *What is the impact of crossover and mutation? Can we use only one of them?*\n",
    "  - Crossover and mutation are two fundamental genetic operations. Crossover enhances the chromosomes by merging beneficial traits from two parent chromosomes, while mutation directly alters a chromosome, aiding in escaping local extrema. For instance, observing the best fitness in each generation's population, we notice a convergence to a certain value, which is then disrupted and potentially increased by a mutation.\n",
    "  - It might be possible to find a solution using only one of these operations, but it's likely to be inefficient. For example, relying solely on uniform crossover could lead to a solution, but it might require an excessive number of generations. Generally, using only mutation is unlikely to lead us to an optimal solution as it lacks the combinatorial benefit of crossover. However, in certain scenarios with specific constants, using only mutation could lead to a solution.\n",
    "\n",
    "#### 4. *What strategies can we employ to speed up the algorithm?*\n",
    "  - The efficiency of our algorithm can be improved by carefully selecting the appropriate values for all constants. Factors such as the number of generations, population size, and the probabilities of mutation and crossover should be chosen judiciously.\n",
    "\n",
    "#### 5. *What strategies can we employ to address the issue of chromosomes becoming static after several generations?*\n",
    "  - Mutation can be a solution to this problem as it introduces variability into the population, despite the crossover operation. \n",
    "  - Additionally, implementing a multi-start strategy can enhance the likelihood of discovering the global optimum as opposed to a local maximum.\n",
    "\n",
    "#### 6. *What measures can we take to halt the algorithm if no solutions are found?*\n",
    "  - One approach could be to set an upper limit for the number of generations, which would stop the algorithm once this limit is reached. Another strategy could be to compute the variances of the top-performing chromosomes over recent generations and compare this with a predefined threshold. The algorithm could then be terminated if the variance falls below this threshold."
   ]
  }
 ],
 "metadata": {
  "kernelspec": {
   "display_name": "Python 3",
   "language": "python",
   "name": "python3"
  },
  "language_info": {
   "codemirror_mode": {
    "name": "ipython",
    "version": 3
   },
   "file_extension": ".py",
   "mimetype": "text/x-python",
   "name": "python",
   "nbconvert_exporter": "python",
   "pygments_lexer": "ipython3",
   "version": "3.10.5"
  }
 },
 "nbformat": 4,
 "nbformat_minor": 2
}
